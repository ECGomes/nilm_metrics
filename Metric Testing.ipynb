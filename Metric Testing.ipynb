{
 "cells": [
  {
   "cell_type": "code",
   "execution_count": 1,
   "metadata": {},
   "outputs": [],
   "source": [
    "#  IMPORTS\n",
    "\n",
    "import pandas as pd\n",
    "from metrics.energy_estimation import MetricsEE\n",
    "from metrics.event_detection import MetricsED"
   ]
  },
  {
   "cell_type": "code",
   "execution_count": 2,
   "outputs": [],
   "source": [
    "# Load files for GT and Pred values\n",
    "\n",
    "ee_gt = pd.read_csv('test_data/kettle_gt.csv', index_col='Time', parse_dates=True)\n",
    "ee_pred = pd.read_csv('test_data/kettle_pred.csv', index_col='Time', parse_dates=True)\n",
    "\n",
    "ee_pred = ee_pred[['Appliance_Q.05', 'Appliance_Q.50']]"
   ],
   "metadata": {
    "collapsed": false,
    "pycharm": {
     "name": "#%%\n"
    }
   }
  },
  {
   "cell_type": "code",
   "execution_count": 3,
   "outputs": [],
   "source": [
    "# Check the metrics using the check_metrics from the MetricsEE class\n",
    "# This function will check for the columns present in both GT and Pred frames\n",
    "# And will return metric values for each of those columns\n",
    "\n",
    "metrics_ee = MetricsEE()\n",
    "ee_hourly_metrics = metrics_ee.check_metrics(ee_gt, ee_pred,\n",
    "                                             metric_list=['rmse', 'cep'],\n",
    "                                             interval='Hour', start_date='2015-05-01', end_date='2015-05-04')"
   ],
   "metadata": {
    "collapsed": false,
    "pycharm": {
     "name": "#%%\n"
    }
   }
  },
  {
   "cell_type": "code",
   "execution_count": 4,
   "metadata": {},
   "outputs": [
    {
     "data": {
      "text/plain": "                           rmse  cep_c  cep_co   cep_cu   cep_o  cep_ozero  \\\n2015-05-01 00:00:00    0.000000      0       0      0.0     0.0        0.0   \n2015-05-01 01:00:00    0.000000      0       0      0.0     0.0        0.0   \n2015-05-01 02:00:00    0.000000      0       0      0.0     0.0        0.0   \n2015-05-01 03:00:00    0.000000      0       0      0.0     0.0        0.0   \n2015-05-01 04:00:00    0.000000      0       0      0.0     0.0        0.0   \n2015-05-01 05:00:00    0.000000      0       0      0.0     0.0        0.0   \n2015-05-01 06:00:00    0.000000      0       0      0.0     0.0        0.0   \n2015-05-01 07:00:00  277.551096   2705     114  36629.0  5812.0        0.0   \n2015-05-01 08:00:00    0.000000      0       0      0.0     0.0        0.0   \n2015-05-01 09:00:00  284.797452      0   10874  42834.0  8074.0     2712.0   \n\n                      cep_u  cep_total  \n2015-05-01 00:00:00     0.0          0  \n2015-05-01 01:00:00     0.0          0  \n2015-05-01 02:00:00     0.0          0  \n2015-05-01 03:00:00     0.0          0  \n2015-05-01 04:00:00     0.0          0  \n2015-05-01 05:00:00     0.0          0  \n2015-05-01 06:00:00     0.0          0  \n2015-05-01 07:00:00  9267.0      48715  \n2015-05-01 08:00:00     0.0          0  \n2015-05-01 09:00:00  3765.0      57473  ",
      "text/html": "<div>\n<style scoped>\n    .dataframe tbody tr th:only-of-type {\n        vertical-align: middle;\n    }\n\n    .dataframe tbody tr th {\n        vertical-align: top;\n    }\n\n    .dataframe thead th {\n        text-align: right;\n    }\n</style>\n<table border=\"1\" class=\"dataframe\">\n  <thead>\n    <tr style=\"text-align: right;\">\n      <th></th>\n      <th>rmse</th>\n      <th>cep_c</th>\n      <th>cep_co</th>\n      <th>cep_cu</th>\n      <th>cep_o</th>\n      <th>cep_ozero</th>\n      <th>cep_u</th>\n      <th>cep_total</th>\n    </tr>\n  </thead>\n  <tbody>\n    <tr>\n      <th>2015-05-01 00:00:00</th>\n      <td>0.000000</td>\n      <td>0</td>\n      <td>0</td>\n      <td>0.0</td>\n      <td>0.0</td>\n      <td>0.0</td>\n      <td>0.0</td>\n      <td>0</td>\n    </tr>\n    <tr>\n      <th>2015-05-01 01:00:00</th>\n      <td>0.000000</td>\n      <td>0</td>\n      <td>0</td>\n      <td>0.0</td>\n      <td>0.0</td>\n      <td>0.0</td>\n      <td>0.0</td>\n      <td>0</td>\n    </tr>\n    <tr>\n      <th>2015-05-01 02:00:00</th>\n      <td>0.000000</td>\n      <td>0</td>\n      <td>0</td>\n      <td>0.0</td>\n      <td>0.0</td>\n      <td>0.0</td>\n      <td>0.0</td>\n      <td>0</td>\n    </tr>\n    <tr>\n      <th>2015-05-01 03:00:00</th>\n      <td>0.000000</td>\n      <td>0</td>\n      <td>0</td>\n      <td>0.0</td>\n      <td>0.0</td>\n      <td>0.0</td>\n      <td>0.0</td>\n      <td>0</td>\n    </tr>\n    <tr>\n      <th>2015-05-01 04:00:00</th>\n      <td>0.000000</td>\n      <td>0</td>\n      <td>0</td>\n      <td>0.0</td>\n      <td>0.0</td>\n      <td>0.0</td>\n      <td>0.0</td>\n      <td>0</td>\n    </tr>\n    <tr>\n      <th>2015-05-01 05:00:00</th>\n      <td>0.000000</td>\n      <td>0</td>\n      <td>0</td>\n      <td>0.0</td>\n      <td>0.0</td>\n      <td>0.0</td>\n      <td>0.0</td>\n      <td>0</td>\n    </tr>\n    <tr>\n      <th>2015-05-01 06:00:00</th>\n      <td>0.000000</td>\n      <td>0</td>\n      <td>0</td>\n      <td>0.0</td>\n      <td>0.0</td>\n      <td>0.0</td>\n      <td>0.0</td>\n      <td>0</td>\n    </tr>\n    <tr>\n      <th>2015-05-01 07:00:00</th>\n      <td>277.551096</td>\n      <td>2705</td>\n      <td>114</td>\n      <td>36629.0</td>\n      <td>5812.0</td>\n      <td>0.0</td>\n      <td>9267.0</td>\n      <td>48715</td>\n    </tr>\n    <tr>\n      <th>2015-05-01 08:00:00</th>\n      <td>0.000000</td>\n      <td>0</td>\n      <td>0</td>\n      <td>0.0</td>\n      <td>0.0</td>\n      <td>0.0</td>\n      <td>0.0</td>\n      <td>0</td>\n    </tr>\n    <tr>\n      <th>2015-05-01 09:00:00</th>\n      <td>284.797452</td>\n      <td>0</td>\n      <td>10874</td>\n      <td>42834.0</td>\n      <td>8074.0</td>\n      <td>2712.0</td>\n      <td>3765.0</td>\n      <td>57473</td>\n    </tr>\n  </tbody>\n</table>\n</div>"
     },
     "execution_count": 4,
     "metadata": {},
     "output_type": "execute_result"
    }
   ],
   "source": [
    "ee_hourly_metrics['Appliance_Q.50'].head(10)"
   ]
  },
  {
   "cell_type": "code",
   "execution_count": 5,
   "outputs": [
    {
     "name": "stdout",
     "output_type": "stream",
     "text": [
      "122.41260585180177\n"
     ]
    }
   ],
   "source": [
    "# Directly calling the methods from the MetricsEE class\n",
    "\n",
    "rmse = metrics_ee.cmd_rmse(ee_gt['Appliance_Q.50'],\n",
    "                           ee_pred['Appliance_Q.50'])\n",
    "\n",
    "print(rmse)"
   ],
   "metadata": {
    "collapsed": false,
    "pycharm": {
     "name": "#%%\n"
    }
   }
  },
  {
   "cell_type": "code",
   "source": [
    "# The MetricsED focuses on the Event Detection metrics\n",
    "# Works the same way, with a check_metrics method available\n",
    "# Set up the test variables - turn the previous Dataframes into binary variables\n",
    "\n",
    "ed_gt = (ee_gt > 0).astype(int)\n",
    "ed_pred = (ee_pred > 0).astype(int)"
   ],
   "metadata": {
    "collapsed": false,
    "pycharm": {
     "name": "#%%\n"
    }
   },
   "execution_count": 6,
   "outputs": []
  },
  {
   "cell_type": "code",
   "execution_count": 7,
   "outputs": [],
   "source": [
    "metrics_ed = MetricsED()\n",
    "ed_hourly_metrics = metrics_ed.check_metrics(ed_gt, ed_pred,\n",
    "                                             metric_list=['conf_mat', 'precision', 'recall',\n",
    "                                                          'fscore', 'mcc', 'smcc', 'dps_pr'],\n",
    "                                             interval='Hour', start_date='2015-05-01', end_date='2015-05-04')"
   ],
   "metadata": {
    "collapsed": false,
    "pycharm": {
     "name": "#%%\n"
    }
   }
  },
  {
   "cell_type": "code",
   "execution_count": 8,
   "outputs": [
    {
     "data": {
      "text/plain": "                       dps_pr    fscore      mcc  precision  recall      smcc  \\\n2015-05-01 00:00:00       NaN       NaN      NaN        NaN     NaN       NaN   \n2015-05-01 01:00:00       NaN       NaN      NaN        NaN     NaN       NaN   \n2015-05-01 02:00:00       NaN       NaN      NaN        NaN     NaN       NaN   \n2015-05-01 03:00:00       NaN       NaN      NaN        NaN     NaN       NaN   \n2015-05-01 04:00:00       NaN       NaN      NaN        NaN     NaN       NaN   \n2015-05-01 05:00:00       NaN       NaN      NaN        NaN     NaN       NaN   \n2015-05-01 06:00:00       NaN       NaN      NaN        NaN     NaN       NaN   \n2015-05-01 07:00:00  0.062500  0.857143  0.85999   1.000000    0.75  0.070005   \n2015-05-01 08:00:00       NaN       NaN      NaN        NaN     NaN       NaN   \n2015-05-01 09:00:00  0.008136  0.938776  0.93547   0.958333    0.92  0.032265   \n\n                     tp   tn  fp  fn  \n2015-05-01 00:00:00   0  450   0   0  \n2015-05-01 01:00:00   0  450   0   0  \n2015-05-01 02:00:00   0  450   0   0  \n2015-05-01 03:00:00   0  450   0   0  \n2015-05-01 04:00:00   0  450   0   0  \n2015-05-01 05:00:00   0  450   0   0  \n2015-05-01 06:00:00   0  450   0   0  \n2015-05-01 07:00:00  18  426   0   6  \n2015-05-01 08:00:00   0  450   0   0  \n2015-05-01 09:00:00  23  424   1   2  ",
      "text/html": "<div>\n<style scoped>\n    .dataframe tbody tr th:only-of-type {\n        vertical-align: middle;\n    }\n\n    .dataframe tbody tr th {\n        vertical-align: top;\n    }\n\n    .dataframe thead th {\n        text-align: right;\n    }\n</style>\n<table border=\"1\" class=\"dataframe\">\n  <thead>\n    <tr style=\"text-align: right;\">\n      <th></th>\n      <th>dps_pr</th>\n      <th>fscore</th>\n      <th>mcc</th>\n      <th>precision</th>\n      <th>recall</th>\n      <th>smcc</th>\n      <th>tp</th>\n      <th>tn</th>\n      <th>fp</th>\n      <th>fn</th>\n    </tr>\n  </thead>\n  <tbody>\n    <tr>\n      <th>2015-05-01 00:00:00</th>\n      <td>NaN</td>\n      <td>NaN</td>\n      <td>NaN</td>\n      <td>NaN</td>\n      <td>NaN</td>\n      <td>NaN</td>\n      <td>0</td>\n      <td>450</td>\n      <td>0</td>\n      <td>0</td>\n    </tr>\n    <tr>\n      <th>2015-05-01 01:00:00</th>\n      <td>NaN</td>\n      <td>NaN</td>\n      <td>NaN</td>\n      <td>NaN</td>\n      <td>NaN</td>\n      <td>NaN</td>\n      <td>0</td>\n      <td>450</td>\n      <td>0</td>\n      <td>0</td>\n    </tr>\n    <tr>\n      <th>2015-05-01 02:00:00</th>\n      <td>NaN</td>\n      <td>NaN</td>\n      <td>NaN</td>\n      <td>NaN</td>\n      <td>NaN</td>\n      <td>NaN</td>\n      <td>0</td>\n      <td>450</td>\n      <td>0</td>\n      <td>0</td>\n    </tr>\n    <tr>\n      <th>2015-05-01 03:00:00</th>\n      <td>NaN</td>\n      <td>NaN</td>\n      <td>NaN</td>\n      <td>NaN</td>\n      <td>NaN</td>\n      <td>NaN</td>\n      <td>0</td>\n      <td>450</td>\n      <td>0</td>\n      <td>0</td>\n    </tr>\n    <tr>\n      <th>2015-05-01 04:00:00</th>\n      <td>NaN</td>\n      <td>NaN</td>\n      <td>NaN</td>\n      <td>NaN</td>\n      <td>NaN</td>\n      <td>NaN</td>\n      <td>0</td>\n      <td>450</td>\n      <td>0</td>\n      <td>0</td>\n    </tr>\n    <tr>\n      <th>2015-05-01 05:00:00</th>\n      <td>NaN</td>\n      <td>NaN</td>\n      <td>NaN</td>\n      <td>NaN</td>\n      <td>NaN</td>\n      <td>NaN</td>\n      <td>0</td>\n      <td>450</td>\n      <td>0</td>\n      <td>0</td>\n    </tr>\n    <tr>\n      <th>2015-05-01 06:00:00</th>\n      <td>NaN</td>\n      <td>NaN</td>\n      <td>NaN</td>\n      <td>NaN</td>\n      <td>NaN</td>\n      <td>NaN</td>\n      <td>0</td>\n      <td>450</td>\n      <td>0</td>\n      <td>0</td>\n    </tr>\n    <tr>\n      <th>2015-05-01 07:00:00</th>\n      <td>0.062500</td>\n      <td>0.857143</td>\n      <td>0.85999</td>\n      <td>1.000000</td>\n      <td>0.75</td>\n      <td>0.070005</td>\n      <td>18</td>\n      <td>426</td>\n      <td>0</td>\n      <td>6</td>\n    </tr>\n    <tr>\n      <th>2015-05-01 08:00:00</th>\n      <td>NaN</td>\n      <td>NaN</td>\n      <td>NaN</td>\n      <td>NaN</td>\n      <td>NaN</td>\n      <td>NaN</td>\n      <td>0</td>\n      <td>450</td>\n      <td>0</td>\n      <td>0</td>\n    </tr>\n    <tr>\n      <th>2015-05-01 09:00:00</th>\n      <td>0.008136</td>\n      <td>0.938776</td>\n      <td>0.93547</td>\n      <td>0.958333</td>\n      <td>0.92</td>\n      <td>0.032265</td>\n      <td>23</td>\n      <td>424</td>\n      <td>1</td>\n      <td>2</td>\n    </tr>\n  </tbody>\n</table>\n</div>"
     },
     "execution_count": 8,
     "metadata": {},
     "output_type": "execute_result"
    }
   ],
   "source": [
    "ed_hourly_metrics['Appliance_Q.50'].head(10)"
   ],
   "metadata": {
    "collapsed": false,
    "pycharm": {
     "name": "#%%\n"
    }
   }
  },
  {
   "cell_type": "code",
   "execution_count": null,
   "outputs": [],
   "source": [
    "\n"
   ],
   "metadata": {
    "collapsed": false,
    "pycharm": {
     "name": "#%%\n"
    }
   }
  }
 ],
 "metadata": {
  "kernelspec": {
   "display_name": "Python 3",
   "language": "python",
   "name": "python3"
  },
  "language_info": {
   "codemirror_mode": {
    "name": "ipython",
    "version": 3
   },
   "file_extension": ".py",
   "mimetype": "text/x-python",
   "name": "python",
   "nbconvert_exporter": "python",
   "pygments_lexer": "ipython3",
   "version": "3.6.8"
  }
 },
 "nbformat": 4,
 "nbformat_minor": 4
}