{
 "cells": [
  {
   "cell_type": "code",
   "execution_count": 1,
   "metadata": {},
   "outputs": [],
   "source": [
    "#  IMPORTS\n",
    "\n",
    "import pandas as pd\n",
    "from metrics.energy_estimation import MetricsEE\n",
    "from metrics.utils import check_metrics"
   ]
  },
  {
   "cell_type": "code",
   "execution_count": 2,
   "outputs": [],
   "source": [
    "# Check the metrics using the check_metrics util\n",
    "# This function will check for the columns present in both GT and Pred frames\n",
    "# And will return metric values for each of those columns\n",
    "\n",
    "df_gt = pd.read_csv('test_data/kettle_gt.csv', index_col='Time', parse_dates=True)\n",
    "df_pred = pd.read_csv('test_data/kettle_pred.csv', index_col='Time', parse_dates=True)\n",
    "\n",
    "df_pred = df_pred[['Appliance_Q.05', 'Appliance_Q.50']]\n",
    "\n",
    "hourly_metrics = check_metrics(df_gt, df_pred, metric_list=['rmse', 'cep'],\n",
    "                               interval='Hour', start_date='2015-05-01', end_date='2015-05-04')"
   ],
   "metadata": {
    "collapsed": false,
    "pycharm": {
     "name": "#%%\n"
    }
   }
  },
  {
   "cell_type": "code",
   "execution_count": 3,
   "metadata": {},
   "outputs": [
    {
     "data": {
      "text/plain": "                           rmse  cep_c  cep_co  cep_cu  cep_o  cep_ozero  \\\n2015-05-01 00:00:00    0.000000      0       0     0.0      0          0   \n2015-05-01 01:00:00    0.000000      0       0     0.0      0          0   \n2015-05-01 02:00:00    0.000000      0       0     0.0      0          0   \n2015-05-01 03:00:00    0.000000      0       0     0.0      0          0   \n2015-05-01 04:00:00    0.000000      0       0     0.0      0          0   \n2015-05-01 05:00:00    0.000000      0       0     0.0      0          0   \n2015-05-01 06:00:00    0.000000      0       0     0.0      0          0   \n2015-05-01 07:00:00  539.052686      0       0     0.0      0          0   \n2015-05-01 08:00:00    0.000000      0       0     0.0      0          0   \n2015-05-01 09:00:00  590.475246      0       0     0.0      0          0   \n\n                       cep_u  cep_total  \n2015-05-01 00:00:00      0.0          0  \n2015-05-01 01:00:00      0.0          0  \n2015-05-01 02:00:00      0.0          0  \n2015-05-01 03:00:00      0.0          0  \n2015-05-01 04:00:00      0.0          0  \n2015-05-01 05:00:00      0.0          0  \n2015-05-01 06:00:00      0.0          0  \n2015-05-01 07:00:00  48715.0      48715  \n2015-05-01 08:00:00      0.0          0  \n2015-05-01 09:00:00  57473.0      57473  ",
      "text/html": "<div>\n<style scoped>\n    .dataframe tbody tr th:only-of-type {\n        vertical-align: middle;\n    }\n\n    .dataframe tbody tr th {\n        vertical-align: top;\n    }\n\n    .dataframe thead th {\n        text-align: right;\n    }\n</style>\n<table border=\"1\" class=\"dataframe\">\n  <thead>\n    <tr style=\"text-align: right;\">\n      <th></th>\n      <th>rmse</th>\n      <th>cep_c</th>\n      <th>cep_co</th>\n      <th>cep_cu</th>\n      <th>cep_o</th>\n      <th>cep_ozero</th>\n      <th>cep_u</th>\n      <th>cep_total</th>\n    </tr>\n  </thead>\n  <tbody>\n    <tr>\n      <th>2015-05-01 00:00:00</th>\n      <td>0.000000</td>\n      <td>0</td>\n      <td>0</td>\n      <td>0.0</td>\n      <td>0</td>\n      <td>0</td>\n      <td>0.0</td>\n      <td>0</td>\n    </tr>\n    <tr>\n      <th>2015-05-01 01:00:00</th>\n      <td>0.000000</td>\n      <td>0</td>\n      <td>0</td>\n      <td>0.0</td>\n      <td>0</td>\n      <td>0</td>\n      <td>0.0</td>\n      <td>0</td>\n    </tr>\n    <tr>\n      <th>2015-05-01 02:00:00</th>\n      <td>0.000000</td>\n      <td>0</td>\n      <td>0</td>\n      <td>0.0</td>\n      <td>0</td>\n      <td>0</td>\n      <td>0.0</td>\n      <td>0</td>\n    </tr>\n    <tr>\n      <th>2015-05-01 03:00:00</th>\n      <td>0.000000</td>\n      <td>0</td>\n      <td>0</td>\n      <td>0.0</td>\n      <td>0</td>\n      <td>0</td>\n      <td>0.0</td>\n      <td>0</td>\n    </tr>\n    <tr>\n      <th>2015-05-01 04:00:00</th>\n      <td>0.000000</td>\n      <td>0</td>\n      <td>0</td>\n      <td>0.0</td>\n      <td>0</td>\n      <td>0</td>\n      <td>0.0</td>\n      <td>0</td>\n    </tr>\n    <tr>\n      <th>2015-05-01 05:00:00</th>\n      <td>0.000000</td>\n      <td>0</td>\n      <td>0</td>\n      <td>0.0</td>\n      <td>0</td>\n      <td>0</td>\n      <td>0.0</td>\n      <td>0</td>\n    </tr>\n    <tr>\n      <th>2015-05-01 06:00:00</th>\n      <td>0.000000</td>\n      <td>0</td>\n      <td>0</td>\n      <td>0.0</td>\n      <td>0</td>\n      <td>0</td>\n      <td>0.0</td>\n      <td>0</td>\n    </tr>\n    <tr>\n      <th>2015-05-01 07:00:00</th>\n      <td>539.052686</td>\n      <td>0</td>\n      <td>0</td>\n      <td>0.0</td>\n      <td>0</td>\n      <td>0</td>\n      <td>48715.0</td>\n      <td>48715</td>\n    </tr>\n    <tr>\n      <th>2015-05-01 08:00:00</th>\n      <td>0.000000</td>\n      <td>0</td>\n      <td>0</td>\n      <td>0.0</td>\n      <td>0</td>\n      <td>0</td>\n      <td>0.0</td>\n      <td>0</td>\n    </tr>\n    <tr>\n      <th>2015-05-01 09:00:00</th>\n      <td>590.475246</td>\n      <td>0</td>\n      <td>0</td>\n      <td>0.0</td>\n      <td>0</td>\n      <td>0</td>\n      <td>57473.0</td>\n      <td>57473</td>\n    </tr>\n  </tbody>\n</table>\n</div>"
     },
     "execution_count": 3,
     "metadata": {},
     "output_type": "execute_result"
    }
   ],
   "source": [
    "hourly_metrics['Appliance_Q.05'].head(10)"
   ]
  },
  {
   "cell_type": "code",
   "execution_count": 4,
   "outputs": [
    {
     "name": "stdout",
     "output_type": "stream",
     "text": [
      "122.41260585180177\n"
     ]
    }
   ],
   "source": [
    "# Directly calling the methods from the MetricsEE class\n",
    "\n",
    "metrics_class = MetricsEE()\n",
    "rmse = metrics_class.cmd_rmse(df_gt['Appliance_Q.50'],\n",
    "                               df_pred['Appliance_Q.50'])\n",
    "\n",
    "print(rmse)"
   ],
   "metadata": {
    "collapsed": false,
    "pycharm": {
     "name": "#%%\n"
    }
   }
  },
  {
   "cell_type": "code",
   "execution_count": null,
   "outputs": [],
   "source": [
    "\n"
   ],
   "metadata": {
    "collapsed": false,
    "pycharm": {
     "name": "#%%\n"
    }
   }
  }
 ],
 "metadata": {
  "kernelspec": {
   "display_name": "Python 3",
   "language": "python",
   "name": "python3"
  },
  "language_info": {
   "codemirror_mode": {
    "name": "ipython",
    "version": 3
   },
   "file_extension": ".py",
   "mimetype": "text/x-python",
   "name": "python",
   "nbconvert_exporter": "python",
   "pygments_lexer": "ipython3",
   "version": "3.6.8"
  }
 },
 "nbformat": 4,
 "nbformat_minor": 4
}